{
 "cells": [
  {
   "cell_type": "code",
   "execution_count": 1,
   "metadata": {},
   "outputs": [],
   "source": [
    "import gymnasium as gym\n",
    "import portfolio_env\n",
    "import numpy as np"
   ]
  },
  {
   "cell_type": "code",
   "execution_count": 2,
   "metadata": {},
   "outputs": [],
   "source": [
    "# Create the environment\n",
    "env = gym.make(\"PortfolioEnv-v0\")"
   ]
  },
  {
   "cell_type": "code",
   "execution_count": 3,
   "metadata": {},
   "outputs": [],
   "source": [
    "# Define test parameters\n",
    "test_env_args = {\n",
    "    \"n_assets\": 3,\n",
    "    \"window_size\": 5,\n",
    "    \"action_step_size\": 0.1,\n",
    "    \"closing_prices\": np.random.rand(2000, 3),  # Fake price data\n",
    "    \"episode_length\": 100,\n",
    "    \"prediction_model\": None,\n",
    "    \"reward_method\": \"portfolio_value\",\n",
    "    \"g1\": 0.5,\n",
    "    \"g2\": 0.5\n",
    "}"
   ]
  },
  {
   "cell_type": "code",
   "execution_count": null,
   "metadata": {},
   "outputs": [
    {
     "name": "stderr",
     "output_type": "stream",
     "text": [
      "/Data/MAP371_TP3/rl_env/lib64/python3.9/site-packages/gymnasium/utils/passive_env_checker.py:42: UserWarning: \u001b[33mWARN: A Box observation space has an unconventional shape (neither an image, nor a 1D vector). We recommend flattening the observation to have only a 1D vector or use a custom policy to properly process the data. Actual observation shape: (5, 3)\u001b[0m\n",
      "  logger.warn(\n"
     ]
    }
   ],
   "source": [
    "# Create the environment using gym.make()\n",
    "env = gym.make(\"PortfolioEnv-v0\", **test_env_args)"
   ]
  },
  {
   "cell_type": "code",
   "execution_count": null,
   "metadata": {},
   "outputs": [
    {
     "name": "stdout",
     "output_type": "stream",
     "text": [
      "Initial Observation: {'current_portfolio': array([1, 0, 0, 0]), 'price_history': array([[0.9595208 , 0.66856335, 0.37317833],\n",
      "       [0.3999824 , 0.03477572, 0.01811325],\n",
      "       [0.86198711, 0.01403118, 0.00410127],\n",
      "       [0.81965025, 0.55320006, 0.39490306],\n",
      "       [0.01073989, 0.34804114, 0.24980975]]), 'movement_prediction': None}\n",
      "Action Taken: 52\n",
      "New Observation: {'current_portfolio': array([0.6, 0.1, 0.3]), 'price_history': array([[0.3999824 , 0.03477572, 0.01811325],\n",
      "       [0.86198711, 0.01403118, 0.00410127],\n",
      "       [0.81965025, 0.55320006, 0.39490306],\n",
      "       [0.01073989, 0.34804114, 0.24980975],\n",
      "       [0.90082047, 0.26451639, 0.29631124]]), 'movement_prediction': None}\n",
      "Reward: 0.28682942803890965\n",
      "Episode Done: False\n"
     ]
    },
    {
     "name": "stderr",
     "output_type": "stream",
     "text": [
      "/Data/MAP371_TP3/rl_env/lib64/python3.9/site-packages/gymnasium/utils/passive_env_checker.py:164: UserWarning: \u001b[33mWARN: The obs returned by the `reset()` method was expecting numpy array dtype to be float64, actual type: int64\u001b[0m\n",
      "  logger.warn(\n",
      "/Data/MAP371_TP3/rl_env/lib64/python3.9/site-packages/gymnasium/utils/passive_env_checker.py:169: UserWarning: \u001b[33mWARN: The obs returned by the `reset()` method was expecting a numpy array, actual type: <class 'NoneType'>\u001b[0m\n",
      "  logger.warn(f\"{pre} was expecting a numpy array, actual type: {type(obs)}\")\n",
      "/Data/MAP371_TP3/rl_env/lib64/python3.9/site-packages/gymnasium/utils/passive_env_checker.py:188: UserWarning: \u001b[33mWARN: The obs returned by the `reset()` method is not within the observation space.\u001b[0m\n",
      "  logger.warn(f\"{pre} is not within the observation space.\")\n",
      "/Data/MAP371_TP3/rl_env/lib64/python3.9/site-packages/gymnasium/utils/passive_env_checker.py:188: UserWarning: \u001b[33mWARN: The obs returned by the `step()` method is not within the observation space.\u001b[0m\n",
      "  logger.warn(f\"{pre} is not within the observation space.\")\n",
      "/Data/MAP371_TP3/rl_env/lib64/python3.9/site-packages/gymnasium/utils/passive_env_checker.py:169: UserWarning: \u001b[33mWARN: The obs returned by the `step()` method was expecting a numpy array, actual type: <class 'NoneType'>\u001b[0m\n",
      "  logger.warn(f\"{pre} was expecting a numpy array, actual type: {type(obs)}\")\n"
     ]
    }
   ],
   "source": [
    "# Reset the environment\n",
    "obs, info = env.reset()\n",
    "print(\"Initial Observation:\", obs)\n",
    "\n",
    "# Take a random action\n",
    "action = env.action_space.sample()\n",
    "obs, reward, done, truncated, info = env.step(action)\n",
    "\n",
    "# Print results\n",
    "print(f\"Action Taken: {action}\")\n",
    "print(f\"New Observation: {obs}\")\n",
    "print(f\"Reward: {reward}\")\n",
    "print(f\"Episode Done: {done}\")"
   ]
  },
  {
   "cell_type": "code",
   "execution_count": 6,
   "metadata": {},
   "outputs": [
    {
     "name": "stdout",
     "output_type": "stream",
     "text": [
      "True\n"
     ]
    }
   ],
   "source": [
    "import gymnasium as gym\n",
    "import portfolio_env  # ✅ Import to trigger registration\n",
    "\n",
    "# ✅ Check if PortfolioEnv-v0 is in Gym’s registry\n",
    "print(\"PortfolioEnv-v0\" in gym.envs.registry)\n"
   ]
  }
 ],
 "metadata": {
  "kernelspec": {
   "display_name": "rl_env",
   "language": "python",
   "name": "python3"
  },
  "language_info": {
   "codemirror_mode": {
    "name": "ipython",
    "version": 3
   },
   "file_extension": ".py",
   "mimetype": "text/x-python",
   "name": "python",
   "nbconvert_exporter": "python",
   "pygments_lexer": "ipython3",
   "version": "3.9.21"
  }
 },
 "nbformat": 4,
 "nbformat_minor": 2
}
