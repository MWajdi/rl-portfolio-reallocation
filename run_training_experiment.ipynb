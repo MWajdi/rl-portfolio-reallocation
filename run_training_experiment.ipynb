{
 "cells": [
  {
   "cell_type": "code",
   "execution_count": null,
   "metadata": {},
   "outputs": [],
   "source": [
    "import ppo\n",
    "import numpy as np\n",
    "\n",
    "def my_trained_model(observation):\n",
    "    n_assets = observation.shape[1]\n",
    "    return np.zeros(n_assets)\n",
    "\n",
    "# Experiment arguments\n",
    "args = ppo.Args(\n",
    "    exp_name=\"experiment_0\",         # name of this experiment\n",
    "    seed=1,                          # random seed\n",
    "    torch_deterministic=True,        # if True, sets torch.backends.cudnn.deterministic = False\n",
    "    cuda=True,                       # if True, CUDA will be enabled by default\n",
    "    track=False,                     # if True, track experiment with Weights & Biases\n",
    "\n",
    "    # Environment specific arguments\n",
    "    n_assets=3,                      # number of assets in the portfolio\n",
    "    window_size=5,                   # size of the historical‐price window (observation dimension)\n",
    "    action_step_size=0.1,            # step size for actions\n",
    "    episode_length=100,              # length of each episode\n",
    "    reward_method=\"portfolio_value\", # reward method: \"portfolio_value\" or \"sharpe_ratio\"\n",
    "    g1=0.5,                          # weight for Sharpe ratio in combined reward\n",
    "    g2=0.5,                          # weight for portfolio return in combined reward\n",
    "    closing_prices=np.array([]),     # array of historical closing prices for all assets\n",
    "    prediction_model=None,           # optional external model for price predictions\n",
    "\n",
    "    # Algorithm specific arguments\n",
    "    env_id=\"PortfolioEnv-v0\",        # gym environment ID\n",
    "    total_timesteps=500000,          # total timesteps for training\n",
    "    learning_rate=2.5e-4,            # learning rate for the optimizer\n",
    "    num_envs=4,                      # number of parallel environments\n",
    "    num_steps=128,                   # steps per environment rollout before update\n",
    "    anneal_lr=True,                  # if True, linearly anneals learning rate\n",
    "    gamma=0.99,                      # discount factor for rewards\n",
    "    gae_lambda=0.95,                 # lambda parameter for GAE (advantage estimation)\n",
    "    num_minibatches=4,               # number of minibatches per update epoch\n",
    "    update_epochs=4,                 # number of update epochs (K epochs in PPO)\n",
    "    norm_adv=True,                   # if True, normalize advantages\n",
    "    clip_coef=0.2,                   # clipping coefficient for PPO surrogate objective\n",
    "    clip_vloss=True,                 # if True, clip value function updates\n",
    "    ent_coef=0.01,                   # entropy bonus coefficient\n",
    "    vf_coef=0.5,                     # value loss coefficient\n",
    "    max_grad_norm=0.5,               # max gradient norm (gradient clipping)\n",
    "    target_kl=None,                  # KL divergence threshold for early stopping\n",
    "\n",
    "    # Computed at runtime\n",
    "    batch_size=0,                    # batch size (computed internally from num_envs & num_steps)\n",
    "    minibatch_size=0,                # minibatch size (computed internally)\n",
    "    num_iterations=0                 # number of iterations (computed internally)\n",
    ")\n"
   ]
  },
  {
   "cell_type": "code",
   "execution_count": null,
   "metadata": {
    "vscode": {
     "languageId": "coffeescript"
    }
   },
   "outputs": [],
   "source": [
    "ppo.main(args)"
   ]
  },
  {
   "cell_type": "markdown",
   "metadata": {},
   "source": [
    "# Evaluate model"
   ]
  },
  {
   "cell_type": "code",
   "execution_count": 2,
   "metadata": {},
   "outputs": [
    {
     "name": "stdout",
     "output_type": "stream",
     "text": [
      "Hello\n"
     ]
    }
   ],
   "source": [
    "print(\"Hello\")"
   ]
  }
 ],
 "metadata": {
  "kernelspec": {
   "display_name": "rl_env",
   "language": "python",
   "name": "python3"
  },
  "language_info": {
   "codemirror_mode": {
    "name": "ipython",
    "version": 3
   },
   "file_extension": ".py",
   "mimetype": "text/x-python",
   "name": "python",
   "nbconvert_exporter": "python",
   "pygments_lexer": "ipython3",
   "version": "3.9.21"
  }
 },
 "nbformat": 4,
 "nbformat_minor": 2
}
